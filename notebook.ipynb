{
 "cells": [
  {
   "cell_type": "code",
   "execution_count": 1,
   "id": "d4d0b9d0",
   "metadata": {},
   "outputs": [
    {
     "data": {
      "text/plain": [
       "DynamicDSLFunction{Any}(Dict{Symbol, Any}(), Dict{Symbol, Any}(), Type[Any], false, Union{Nothing, Some{Any}}[nothing], var\"##generate_table_world#312\", Bool[0], false)"
      ]
     },
     "execution_count": 1,
     "metadata": {},
     "output_type": "execute_result"
    }
   ],
   "source": [
    "# Load the generative model\n",
    "\n",
    "include(\"generative_model.jl\")"
   ]
  },
  {
   "cell_type": "code",
   "execution_count": null,
   "id": "48c95caa",
   "metadata": {},
   "outputs": [],
   "source": []
  },
  {
   "cell_type": "code",
   "execution_count": 2,
   "id": "e56ad54c",
   "metadata": {},
   "outputs": [
    {
     "data": {
      "text/plain": [
       "condition (generic function with 1 method)"
      ]
     },
     "execution_count": 2,
     "metadata": {},
     "output_type": "execute_result"
    }
   ],
   "source": [
    "function condition(model, args, list_of_conditions)\n",
    "    \n",
    "    all_satisfied = false\n",
    "    \n",
    "    world = model(args)\n",
    "    counter = 0\n",
    "    while all_satisfied == false\n",
    "#         function apply(f, w)\n",
    "#             return f(w)\n",
    "#         end\n",
    "        if all([c(world) for c in list_of_conditions])\n",
    "#         if all(map(f -> f(world), list_of_conditions))\n",
    "            all_satisfied = true\n",
    "        else\n",
    "            world = model(args)\n",
    "        end\n",
    "        counter += 1\n",
    "    end\n",
    "    \n",
    "    return world, (\"NUM_SIMS\", counter)\n",
    "            \n",
    "end"
   ]
  },
  {
   "cell_type": "code",
   "execution_count": null,
   "id": "450723de",
   "metadata": {},
   "outputs": [],
   "source": []
  },
  {
   "cell_type": "code",
   "execution_count": 3,
   "id": "82dc85ca",
   "metadata": {},
   "outputs": [
    {
     "name": "stdout",
     "output_type": "stream",
     "text": [
      "  2.202933 seconds (26.27 M allocations: 1.582 GiB, 5.67% gc time, 22.27% compilation time)\n"
     ]
    },
    {
     "data": {
      "text/plain": [
       "(Any[Dict{String, Any}(\"mass\" => 100, \"base_shape\" => [\"table\"], \"abs_spatial\" => Dict(\"x\" => 500.0, \"z\" => 500.0, \"y\" => 373.5), \"dims\" => [746, 747, 746], \"color\" => \"white\", \"object_type\" => \"table\"), Dict{String, Any}(\"volume\" => 1728, \"color\" => \"yellow\", \"base_shape\" => [\"cube\"], \"abs_spatial\" => Dict(\"x\" => 840.0378634006739, \"z\" => 870.965429334162, \"y\" => 753.0), \"dims\" => [12, 12, 12], \"mass\" => 2.16, \"object_type\" => \"block\"), Dict{String, Any}(\"volume\" => 1000, \"color\" => \"red\", \"base_shape\" => [\"cube\"], \"abs_spatial\" => Dict(\"x\" => 133.15015300892694, \"z\" => 204.52153667108493, \"y\" => 752.0), \"dims\" => [10, 10, 10], \"mass\" => 1.25, \"object_type\" => \"block\"), Dict{String, Any}(\"volume\" => 3375, \"color\" => \"red\", \"base_shape\" => [\"cube\"], \"abs_spatial\" => Dict(\"x\" => 325.14524586085975, \"z\" => 351.84245930409685, \"y\" => 754.5), \"dims\" => [15, 15, 15], \"mass\" => 4.21875, \"object_type\" => \"block\"), Dict{String, Any}(\"volume\" => 8000, \"color\" => \"red\", \"base_shape\" => [\"cube\"], \"abs_spatial\" => Dict(\"x\" => 541.0501954352299, \"z\" => 459.60372695783997, \"y\" => 757.0), \"dims\" => [20, 20, 20], \"mass\" => 10.0, \"object_type\" => \"block\"), Dict{String, Any}(\"volume\" => 1000, \"color\" => \"red\", \"base_shape\" => [\"cube\"], \"abs_spatial\" => Dict(\"x\" => 310.09713373680415, \"z\" => 242.24416885161781, \"y\" => 752.0), \"dims\" => [10, 10, 10], \"mass\" => 1.25, \"object_type\" => \"block\"), Dict{String, Any}(\"volume\" => 2197, \"color\" => \"yellow\", \"base_shape\" => [\"cube\"], \"abs_spatial\" => Dict(\"x\" => 684.1804027835561, \"z\" => 281.98684941659224, \"y\" => 753.5), \"dims\" => [13, 13, 13], \"mass\" => 2.74625, \"object_type\" => \"block\"), Dict{String, Any}(\"volume\" => 3375, \"color\" => \"yellow\", \"base_shape\" => [\"cube\"], \"abs_spatial\" => Dict(\"x\" => 865.344887828772, \"z\" => 622.3804657079745, \"y\" => 754.5), \"dims\" => [15, 15, 15], \"mass\" => 4.21875, \"object_type\" => \"block\"), Dict{String, Any}(\"volume\" => 2197, \"color\" => \"red\", \"base_shape\" => [\"cube\"], \"abs_spatial\" => Dict(\"x\" => 761.3544577038633, \"z\" => 663.1415220076224, \"y\" => 753.5), \"dims\" => [13, 13, 13], \"mass\" => 2.74625, \"object_type\" => \"block\"), Dict{String, Any}(\"volume\" => 3375, \"color\" => \"yellow\", \"base_shape\" => [\"cube\"], \"abs_spatial\" => Dict(\"x\" => 548.1778806311145, \"z\" => 701.6486584825128, \"y\" => 754.5), \"dims\" => [15, 15, 15], \"mass\" => 4.21875, \"object_type\" => \"block\")], (\"NUM_SIMS\", 68966))"
      ]
     },
     "execution_count": 3,
     "metadata": {},
     "output_type": "execute_result"
    }
   ],
   "source": [
    "default_world_dims = [1000, 1000, 1000]\n",
    "\n",
    "# scene = generate_table_world(default_world_dims)\n",
    "# println(scene)\n",
    "\n",
    "# The table is extremely large\n",
    "cond1 = w -> (w[1][\"dims\"][1] > 745) && (w[1][\"dims\"][3] > 745)\n",
    "\n",
    "# The table is extremely tall\n",
    "\n",
    "cond2 = w -> w[1][\"dims\"][2] > 745\n",
    "\n",
    "# There are 9 blocks\n",
    "cond3 = w -> length(w) == 9 + 1\n",
    "\n",
    "# There are at least 5 red blocks\n",
    "\n",
    "@time condition(generate_table_world, default_world_dims, [cond1, cond2, cond3])"
   ]
  },
  {
   "cell_type": "code",
   "execution_count": 4,
   "id": "770313b7",
   "metadata": {},
   "outputs": [],
   "source": [
    "# How many blocks are there?\n",
    "\n",
    "# How many blocks are on the table?\n",
    "\n",
    "# How many red blocks are on the table?\n",
    "\n",
    "# Are there more yellow blocks or red blocks?\n",
    "\n",
    "# What is the color of the heaviest red block?"
   ]
  },
  {
   "cell_type": "code",
   "execution_count": null,
   "id": "45f53150",
   "metadata": {},
   "outputs": [],
   "source": []
  }
 ],
 "metadata": {
  "kernelspec": {
   "display_name": "Julia 1.8.3",
   "language": "julia",
   "name": "julia-1.8"
  },
  "language_info": {
   "file_extension": ".jl",
   "mimetype": "application/julia",
   "name": "julia",
   "version": "1.8.3"
  }
 },
 "nbformat": 4,
 "nbformat_minor": 5
}
