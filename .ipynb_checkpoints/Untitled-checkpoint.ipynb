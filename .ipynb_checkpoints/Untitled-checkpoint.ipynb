{
 "cells": [
  {
   "cell_type": "code",
   "execution_count": 5,
   "id": "d4d0b9d0",
   "metadata": {},
   "outputs": [
    {
     "data": {
      "text/plain": [
       "DynamicDSLFunction{Any}(Dict{Symbol, Any}(), Dict{Symbol, Any}(), Type[Any], false, Union{Nothing, Some{Any}}[nothing], var\"##generate_table_world#314\", Bool[0], false)"
      ]
     },
     "execution_count": 5,
     "metadata": {},
     "output_type": "execute_result"
    }
   ],
   "source": [
    "# Load the generative model\n",
    "\n",
    "include(\"generative_model.jl\")"
   ]
  },
  {
   "cell_type": "code",
   "execution_count": null,
   "id": "f6866dec",
   "metadata": {},
   "outputs": [],
   "source": []
  },
  {
   "cell_type": "code",
   "execution_count": null,
   "id": "fac6ab97",
   "metadata": {},
   "outputs": [],
   "source": []
  },
  {
   "cell_type": "code",
   "execution_count": null,
   "id": "ebaeafbc",
   "metadata": {},
   "outputs": [],
   "source": []
  },
  {
   "cell_type": "code",
   "execution_count": null,
   "id": "bcadde40",
   "metadata": {},
   "outputs": [],
   "source": []
  },
  {
   "cell_type": "code",
   "execution_count": null,
   "id": "b9f74ea9",
   "metadata": {},
   "outputs": [],
   "source": []
  },
  {
   "cell_type": "code",
   "execution_count": null,
   "id": "a6e4b5aa",
   "metadata": {},
   "outputs": [],
   "source": []
  },
  {
   "cell_type": "code",
   "execution_count": null,
   "id": "788de4b3",
   "metadata": {},
   "outputs": [],
   "source": []
  },
  {
   "cell_type": "code",
   "execution_count": null,
   "id": "31f1b038",
   "metadata": {},
   "outputs": [],
   "source": []
  },
  {
   "cell_type": "code",
   "execution_count": null,
   "id": "48c95caa",
   "metadata": {},
   "outputs": [],
   "source": []
  },
  {
   "cell_type": "code",
   "execution_count": 75,
   "id": "e56ad54c",
   "metadata": {},
   "outputs": [
    {
     "data": {
      "text/plain": [
       "condition (generic function with 1 method)"
      ]
     },
     "execution_count": 75,
     "metadata": {},
     "output_type": "execute_result"
    }
   ],
   "source": [
    "function condition(model, args, list_of_conditions)\n",
    "    \n",
    "    all_satisfied = false\n",
    "    \n",
    "    world = model(args)\n",
    "    counter = 0\n",
    "    while all_satisfied == false\n",
    "#         function apply(f, w)\n",
    "#             return f(w)\n",
    "#         end\n",
    "        if all([c(world) for c in list_of_conditions])\n",
    "#         if all(map(f -> f(world), list_of_conditions))\n",
    "            all_satisfied = true\n",
    "        else\n",
    "            world = model(args)\n",
    "        end\n",
    "        counter += 1\n",
    "    end\n",
    "    \n",
    "    return world, (\"NUM_SIMS\", counter)\n",
    "            \n",
    "end"
   ]
  },
  {
   "cell_type": "code",
   "execution_count": null,
   "id": "450723de",
   "metadata": {},
   "outputs": [],
   "source": []
  },
  {
   "cell_type": "code",
   "execution_count": 92,
   "id": "82dc85ca",
   "metadata": {},
   "outputs": [
    {
     "name": "stdout",
     "output_type": "stream",
     "text": [
      " 13.344686 seconds (170.48 M allocations: 10.350 GiB, 8.15% gc time, 0.30% compilation time)\n"
     ]
    },
    {
     "data": {
      "text/plain": [
       "(Any[Dict{String, Any}(\"mass\" => 100, \"base_shape\" => [\"table\"], \"abs_spatial\" => Dict(\"x\" => 500.0, \"z\" => 500.0, \"y\" => 373.0), \"dims\" => [747, 746, 747], \"color\" => \"white\", \"object_type\" => \"table\"), Dict{String, Any}(\"volume\" => 1728, \"color\" => \"yellow\", \"base_shape\" => [\"cube\"], \"abs_spatial\" => Dict(\"x\" => 639.5179865673524, \"z\" => 189.4930989499669, \"y\" => 752.0), \"dims\" => [12, 12, 12], \"mass\" => 2.16, \"object_type\" => \"block\"), Dict{String, Any}(\"volume\" => 3375, \"color\" => \"red\", \"base_shape\" => [\"cube\"], \"abs_spatial\" => Dict(\"x\" => 482.91359589442624, \"z\" => 425.3183812629318, \"y\" => 753.5), \"dims\" => [15, 15, 15], \"mass\" => 4.21875, \"object_type\" => \"block\"), Dict{String, Any}(\"volume\" => 4913, \"color\" => \"red\", \"base_shape\" => [\"cube\"], \"abs_spatial\" => Dict(\"x\" => 268.00288638063034, \"z\" => 558.8697189196205, \"y\" => 754.5), \"dims\" => [17, 17, 17], \"mass\" => 6.14125, \"object_type\" => \"block\"), Dict{String, Any}(\"volume\" => 1331, \"color\" => \"yellow\", \"base_shape\" => [\"cube\"], \"abs_spatial\" => Dict(\"x\" => 574.1894243315776, \"z\" => 814.4704569216095, \"y\" => 751.5), \"dims\" => [11, 11, 11], \"mass\" => 1.6637499999999998, \"object_type\" => \"block\"), Dict{String, Any}(\"volume\" => 1728, \"color\" => \"yellow\", \"base_shape\" => [\"cube\"], \"abs_spatial\" => Dict(\"x\" => 199.8509188187565, \"z\" => 620.9179335861979, \"y\" => 752.0), \"dims\" => [12, 12, 12], \"mass\" => 2.16, \"object_type\" => \"block\"), Dict{String, Any}(\"volume\" => 3375, \"color\" => \"yellow\", \"base_shape\" => [\"cube\"], \"abs_spatial\" => Dict(\"x\" => 149.76520013750985, \"z\" => 552.5661990035076, \"y\" => 753.5), \"dims\" => [15, 15, 15], \"mass\" => 4.21875, \"object_type\" => \"block\"), Dict{String, Any}(\"volume\" => 5832, \"color\" => \"yellow\", \"base_shape\" => [\"cube\"], \"abs_spatial\" => Dict(\"x\" => 598.2930281846698, \"z\" => 675.7300502957032, \"y\" => 755.0), \"dims\" => [18, 18, 18], \"mass\" => 7.29, \"object_type\" => \"block\"), Dict{String, Any}(\"volume\" => 6859, \"color\" => \"red\", \"base_shape\" => [\"cube\"], \"abs_spatial\" => Dict(\"x\" => 584.6054890252941, \"z\" => 464.0886542089769, \"y\" => 755.5), \"dims\" => [19, 19, 19], \"mass\" => 8.57375, \"object_type\" => \"block\"), Dict{String, Any}(\"volume\" => 1000, \"color\" => \"red\", \"base_shape\" => [\"cube\"], \"abs_spatial\" => Dict(\"x\" => 179.89673839402602, \"z\" => 157.26646661549105, \"y\" => 751.0), \"dims\" => [10, 10, 10], \"mass\" => 1.25, \"object_type\" => \"block\")], (\"NUM_SIMS\", 471676))"
      ]
     },
     "execution_count": 92,
     "metadata": {},
     "output_type": "execute_result"
    }
   ],
   "source": [
    "default_world_dims = [1000, 1000, 1000]\n",
    "\n",
    "# scene = generate_table_world(default_world_dims)\n",
    "# println(scene)\n",
    "\n",
    "# The table is extremely large\n",
    "cond1 = w -> (w[1][\"dims\"][1] > 745) && (w[1][\"dims\"][3] > 745)\n",
    "\n",
    "# The table is extremely tall\n",
    "\n",
    "cond2 = w -> w[1][\"dims\"][2] > 745\n",
    "\n",
    "# There are 9 blocks\n",
    "cond3 = w -> length(w) == 9 + 1\n",
    "\n",
    "# There are at least 5 red blocks\n",
    "\n",
    "@time condition(generate_table_world, default_world_dims, [cond1, cond2, cond3])"
   ]
  },
  {
   "cell_type": "code",
   "execution_count": null,
   "id": "770313b7",
   "metadata": {},
   "outputs": [],
   "source": [
    "# How many blocks are there?\n",
    "\n",
    "\n",
    "# How many blocks are on the table?\n",
    "\n",
    "# How many red blocks are on the table?\n",
    "\n",
    "# Are there more yellow blocks or red blocks?\n",
    "\n",
    "# What is the color of the heaviest red block?"
   ]
  },
  {
   "cell_type": "code",
   "execution_count": null,
   "id": "45f53150",
   "metadata": {},
   "outputs": [],
   "source": []
  }
 ],
 "metadata": {
  "kernelspec": {
   "display_name": "Julia 1.8.3",
   "language": "julia",
   "name": "julia-1.8"
  },
  "language_info": {
   "file_extension": ".jl",
   "mimetype": "application/julia",
   "name": "julia",
   "version": "1.8.3"
  }
 },
 "nbformat": 4,
 "nbformat_minor": 5
}
