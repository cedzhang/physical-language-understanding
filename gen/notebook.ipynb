{
 "cells": [
  {
   "cell_type": "code",
   "execution_count": 1,
   "id": "d4d0b9d0",
   "metadata": {},
   "outputs": [
    {
     "data": {
      "text/plain": [
       "DynamicDSLFunction{Any}(Dict{Symbol, Any}(), Dict{Symbol, Any}(), Type[Any], false, Union{Nothing, Some{Any}}[nothing], var\"##generate_table_world#312\", Bool[0], false)"
      ]
     },
     "execution_count": 1,
     "metadata": {},
     "output_type": "execute_result"
    }
   ],
   "source": [
    "# Load the generative model\n",
    "\n",
    "include(\"generative_model.jl\")"
   ]
  },
  {
   "cell_type": "code",
   "execution_count": null,
   "id": "48c95caa",
   "metadata": {},
   "outputs": [],
   "source": []
  },
  {
   "cell_type": "code",
   "execution_count": 2,
   "id": "e56ad54c",
   "metadata": {},
   "outputs": [
    {
     "data": {
      "text/plain": [
       "condition (generic function with 1 method)"
      ]
     },
     "execution_count": 2,
     "metadata": {},
     "output_type": "execute_result"
    }
   ],
   "source": [
    "function condition(model, args, list_of_conditions)\n",
    "    \n",
    "    all_satisfied = false\n",
    "    \n",
    "    world = model(args)\n",
    "    counter = 0\n",
    "    while all_satisfied == false\n",
    "        if all([c(world) for c in list_of_conditions])\n",
    "            all_satisfied = true\n",
    "        else\n",
    "            world = model(args)\n",
    "        end\n",
    "        counter += 1\n",
    "    end\n",
    "    \n",
    "    return world, (\"NUM_SIMS\", counter)\n",
    "            \n",
    "end"
   ]
  },
  {
   "cell_type": "code",
   "execution_count": null,
   "id": "450723de",
   "metadata": {},
   "outputs": [],
   "source": []
  },
  {
   "cell_type": "code",
   "execution_count": 18,
   "id": "82dc85ca",
   "metadata": {},
   "outputs": [
    {
     "name": "stdout",
     "output_type": "stream",
     "text": [
      "  0.040457 seconds (37.45 k allocations: 2.103 MiB, 98.84% compilation time)\n"
     ]
    },
    {
     "data": {
      "text/plain": [
       "9-element Vector{Any}:\n",
       " Dict{String, Any}(\"mass\" => 100, \"base_shape\" => [\"table\"], \"abs_spatial\" => Dict(\"x\" => 500.0, \"z\" => 500.0, \"y\" => 304.0), \"dims\" => [714, 608, 714], \"color\" => \"white\", \"object_type\" => \"table\")\n",
       " Dict{String, Any}(\"volume\" => 1000, \"color\" => \"yellow\", \"base_shape\" => [\"cube\"], \"abs_spatial\" => Dict(\"x\" => 149.67387060369845, \"z\" => 410.01548092266466, \"y\" => 613.0), \"dims\" => [10, 10, 10], \"mass\" => 1.25, \"object_type\" => \"block\")\n",
       " Dict{String, Any}(\"volume\" => 4913, \"color\" => \"red\", \"base_shape\" => [\"cube\"], \"abs_spatial\" => Dict(\"x\" => 259.80774266631687, \"z\" => 368.3422705715194, \"y\" => 616.5), \"dims\" => [17, 17, 17], \"mass\" => 6.14125, \"object_type\" => \"block\")\n",
       " Dict{String, Any}(\"volume\" => 2197, \"color\" => \"yellow\", \"base_shape\" => [\"cube\"], \"abs_spatial\" => Dict(\"x\" => 453.50005234141025, \"z\" => 193.308426267991, \"y\" => 614.5), \"dims\" => [13, 13, 13], \"mass\" => 2.74625, \"object_type\" => \"block\")\n",
       " Dict{String, Any}(\"volume\" => 2197, \"color\" => \"red\", \"base_shape\" => [\"cube\"], \"abs_spatial\" => Dict(\"x\" => 501.76462473478784, \"z\" => 388.7074323544123, \"y\" => 614.5), \"dims\" => [13, 13, 13], \"mass\" => 2.74625, \"object_type\" => \"block\")\n",
       " Dict{String, Any}(\"volume\" => 2197, \"color\" => \"yellow\", \"base_shape\" => [\"cube\"], \"abs_spatial\" => Dict(\"x\" => 711.7965003090433, \"z\" => 210.73426409192177, \"y\" => 614.5), \"dims\" => [13, 13, 13], \"mass\" => 2.74625, \"object_type\" => \"block\")\n",
       " Dict{String, Any}(\"volume\" => 5832, \"color\" => \"yellow\", \"base_shape\" => [\"cube\"], \"abs_spatial\" => Dict(\"x\" => 260.92654900987543, \"z\" => 659.3540800248334, \"y\" => 617.0), \"dims\" => [18, 18, 18], \"mass\" => 7.29, \"object_type\" => \"block\")\n",
       " Dict{String, Any}(\"volume\" => 1331, \"color\" => \"red\", \"base_shape\" => [\"cube\"], \"abs_spatial\" => Dict(\"x\" => 384.9043315070802, \"z\" => 690.6877866840846, \"y\" => 613.5), \"dims\" => [11, 11, 11], \"mass\" => 1.6637499999999998, \"object_type\" => \"block\")\n",
       " Dict{String, Any}(\"volume\" => 1331, \"color\" => \"red\", \"base_shape\" => [\"cube\"], \"abs_spatial\" => Dict(\"x\" => 238.74146227413888, \"z\" => 160.26796335852114, \"y\" => 613.5), \"dims\" => [11, 11, 11], \"mass\" => 1.6637499999999998, \"object_type\" => \"block\")"
      ]
     },
     "execution_count": 18,
     "metadata": {},
     "output_type": "execute_result"
    }
   ],
   "source": [
    "default_world_dims = [1000, 1000, 1000]\n",
    "\n",
    "# scene = generate_table_world(default_world_dims)\n",
    "# println(scene)\n",
    "\n",
    "# The table is extremely large\n",
    "cond1 = w -> (w[1][\"dims\"][1] > 600) && (w[1][\"dims\"][3] > 600)\n",
    "\n",
    "# The table is extremely tall\n",
    "\n",
    "cond2 = w -> w[1][\"dims\"][2] > 600\n",
    "\n",
    "# There are at least 5 blocks\n",
    "cond3 = w -> length(w) >= 6\n",
    "\n",
    "@time world = condition(generate_table_world, default_world_dims, [cond1, cond2, cond3])[1]"
   ]
  },
  {
   "cell_type": "code",
   "execution_count": 20,
   "id": "c22d8fe2",
   "metadata": {},
   "outputs": [
    {
     "data": {
      "text/plain": [
       "how_many_on_table (generic function with 1 method)"
      ]
     },
     "execution_count": 20,
     "metadata": {},
     "output_type": "execute_result"
    }
   ],
   "source": [
    "function how_many_on_table(world)\n",
    "    counter = 0\n",
    "    for i in 2:length(world)\n",
    "        if world[i][\"abs_spatial\"][\"y\"] - world[i][\"dims\"][2] / 2 == world[1][\"dims\"][2]\n",
    "            counter += 1\n",
    "        end\n",
    "    end\n",
    "    return counter\n",
    "end"
   ]
  },
  {
   "cell_type": "code",
   "execution_count": 4,
   "id": "770313b7",
   "metadata": {},
   "outputs": [],
   "source": [
    "# How many blocks are there?\n",
    "\n",
    "w -> length(filter_type(\"block\", w))\n",
    "\n",
    "# How many blocks are on the table?\n",
    "\n",
    "w -> length(filter_type(\"block\", filter_preposition((on, \"table\"), w)))\n",
    "\n",
    "# How many red blocks are on the table?\n",
    "    \n",
    "w -> length(filter_color(\"red\", filter_type(\"block\", filter_preposition((on, \"table\"), w))))\n",
    "\n",
    "# Are there more yellow blocks or red blocks?\n",
    "\n",
    "num_yellow = length(filter_color(\"yellow\", filter_type(\"block\", w)))\n",
    "num_red = length(filter_color(\"red\", filter_type(\"block\", w)))\n",
    "w -> num_yellow > num_red ? \"yellow blocks\" : (num_yellow < num_red ? \"red blocks\" : \"same\")\n",
    "\n",
    "# What is the color of the heaviest block?\n",
    "\n",
    "red_blocks = filter_color(\"red\", filter_type(\"block\", w))\n",
    "w -> the_color_of(max_by(\"mass\", red_blocks))\n",
    "\n",
    "\n",
    "\n"
   ]
  },
  {
   "cell_type": "code",
   "execution_count": null,
   "id": "45f53150",
   "metadata": {},
   "outputs": [],
   "source": []
  }
 ],
 "metadata": {
  "kernelspec": {
   "display_name": "Julia 1.8.3",
   "language": "julia",
   "name": "julia-1.8"
  },
  "language_info": {
   "file_extension": ".jl",
   "mimetype": "application/julia",
   "name": "julia",
   "version": "1.8.3"
  }
 },
 "nbformat": 4,
 "nbformat_minor": 5
}
